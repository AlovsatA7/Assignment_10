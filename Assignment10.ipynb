{
 "cells": [
  {
   "cell_type": "code",
   "execution_count": 18,
   "id": "732be91b",
   "metadata": {},
   "outputs": [],
   "source": [
    "import pandas as pd\n",
    "import statsmodels.api as sm\n",
    "import numpy as np\n",
    "import matplotlib.pyplot as plt\n",
    "from statsmodels.stats.meta_analysis import combine_effects\n",
    "from statsmodels.formula.api import ols"
   ]
  },
  {
   "cell_type": "code",
   "execution_count": 19,
   "id": "eedb830a",
   "metadata": {},
   "outputs": [
    {
     "name": "stdout",
     "output_type": "stream",
     "text": [
      "                       Study  Female authors  Male authors  Age (months)  \\\n",
      "0   Alexander & Saenz (2012)               2             0         19.50   \n",
      "1              Arthur (2014)               1             0         19.00   \n",
      "2   Berenbaum & Hines (1992)               2             0         65.79   \n",
      "3  Berenbaum & Snyder (1995)               2             0         93.10   \n",
      "4       Doering et al (1989)               1             3         87.00   \n",
      "\n",
      "   N_boys  N_girls  Mean_boys_play_male  SD_boys_play_male  \\\n",
      "0      47       47               438.72             166.08   \n",
      "1      22       18               148.00             105.00   \n",
      "2      18       18               325.25             270.21   \n",
      "3      19       19               484.21             141.28   \n",
      "4      15       15               260.10              67.70   \n",
      "\n",
      "   Mean_girls_play_male  SD_girls_play_male  ...  Country  \\\n",
      "0                248.64              161.28  ...    0.256   \n",
      "1                 54.00               53.00  ...    0.280   \n",
      "2                135.13              201.72  ...    0.252   \n",
      "3                202.48              168.14  ...    0.252   \n",
      "4                 98.40              101.30  ...    0.141   \n",
      "\n",
      "   Case definition adequate  Representativeness of cases  \\\n",
      "0                         *                            *   \n",
      "1                         *                            X   \n",
      "2                         X                            *   \n",
      "3                         *                            X   \n",
      "4                         *                            *   \n",
      "\n",
      "   Selection of controls  Parental opinion  Comparability of both groups  \\\n",
      "0                      X                 X                             *   \n",
      "1                      X                 X                            **   \n",
      "2                      *                 *                             *   \n",
      "3                      *                 *                             *   \n",
      "4                      *                 X                             *   \n",
      "\n",
      "   Ascertainment of behaviour  Same ascertainment method for both groups  \\\n",
      "0                           *                                          *   \n",
      "1                           *                                          *   \n",
      "2                           *                                          *   \n",
      "3                           *                                          *   \n",
      "4                           *                                          *   \n",
      "\n",
      "   Non‐response rate NOS score  \n",
      "0                  X         5  \n",
      "1                  *         6  \n",
      "2                  X         6  \n",
      "3                  *         7  \n",
      "4                  X         6  \n",
      "\n",
      "[5 rows x 28 columns]\n",
      "Index(['Study', 'Female authors', 'Male authors', 'Age (months)', 'N_boys',\n",
      "       'N_girls', 'Mean_boys_play_male', 'SD_boys_play_male',\n",
      "       'Mean_girls_play_male', 'SD_girls_play_male', 'Mean_boys_play_female',\n",
      "       'SD_boys_play_female', 'Mean_girls_play_female', 'SD_girls_play_female',\n",
      "       'Neutral toys', 'Year', 'Parent present', 'Setting', 'Country',\n",
      "       'Case definition adequate', 'Representativeness of cases',\n",
      "       'Selection of controls', 'Parental opinion',\n",
      "       'Comparability of both groups', 'Ascertainment of behaviour',\n",
      "       'Same ascertainment method for both groups', 'Non‐response rate',\n",
      "       'NOS score'],\n",
      "      dtype='object')\n"
     ]
    }
   ],
   "source": [
    "# Data extraction\n",
    "\n",
    "data = pd.read_excel('C:/Users/Alovsat Abdullayev/Desktop/UW/Lessons/Extra year/Reproducible Research\\Assginment 10/Data/metaanalysis_data.xlsx')\n",
    "print(data.head())\n",
    "print(data.columns)"
   ]
  },
  {
   "cell_type": "markdown",
   "id": "a5359b08",
   "metadata": {},
   "source": [
    "**The dataset contains related to studies on children's toy preferences.**"
   ]
  },
  {
   "cell_type": "code",
   "execution_count": 20,
   "id": "54186dfa",
   "metadata": {},
   "outputs": [],
   "source": [
    "# Calculate effect sizes and standard errors\n",
    "# Here we are taking differences in mean times and pooling standard deviations as an example\n",
    "data['EffectSize_boys_male'] = data['Mean_boys_play_male']\n",
    "data['StdErr_boys_male'] = data['SD_boys_play_male'] / np.sqrt(data['N_boys'])\n",
    "\n",
    "data['EffectSize_girls_male'] = data['Mean_girls_play_male']\n",
    "data['StdErr_girls_male'] = data['SD_girls_play_male'] / np.sqrt(data['N_girls'])\n",
    "\n",
    "data['EffectSize_boys_female'] = data['Mean_boys_play_female']\n",
    "data['StdErr_boys_female'] = data['SD_boys_play_female'] / np.sqrt(data['N_boys'])\n",
    "\n",
    "data['EffectSize_girls_female'] = data['Mean_girls_play_female']\n",
    "data['StdErr_girls_female'] = data['SD_girls_play_female'] / np.sqrt(data['N_girls'])\n"
   ]
  },
  {
   "cell_type": "code",
   "execution_count": 21,
   "id": "29206841",
   "metadata": {},
   "outputs": [],
   "source": [
    "# Combine the data for meta-analysis\n",
    "effect_sizes = np.concatenate([data['EffectSize_boys_male'], data['EffectSize_girls_male'],\n",
    "                               data['EffectSize_boys_female'], data['EffectSize_girls_female']])\n",
    "std_errors = np.concatenate([data['StdErr_boys_male'], data['StdErr_girls_male'],\n",
    "                             data['StdErr_boys_female'], data['StdErr_girls_female']])\n",
    "weights = 1 / std_errors**2"
   ]
  },
  {
   "cell_type": "code",
   "execution_count": 22,
   "id": "44567338",
   "metadata": {},
   "outputs": [
    {
     "name": "stdout",
     "output_type": "stream",
     "text": [
      "Fixed Effects Model:\n",
      "                             WLS Regression Results                            \n",
      "==============================================================================\n",
      "Dep. Variable:                      y   R-squared:                       0.000\n",
      "Model:                            WLS   Adj. R-squared:                  0.000\n",
      "Method:                 Least Squares   F-statistic:                       nan\n",
      "Date:                Sun, 26 May 2024   Prob (F-statistic):                nan\n",
      "Time:                        21:19:54   Log-Likelihood:                -643.74\n",
      "No. Observations:                 108   AIC:                             1289.\n",
      "Df Residuals:                     107   BIC:                             1292.\n",
      "Df Model:                           0                                         \n",
      "Covariance Type:            nonrobust                                         \n",
      "==============================================================================\n",
      "                 coef    std err          t      P>|t|      [0.025      0.975]\n",
      "------------------------------------------------------------------------------\n",
      "const         35.5658      4.942      7.196      0.000      25.768      45.363\n",
      "==============================================================================\n",
      "Omnibus:                       12.663   Durbin-Watson:                   0.713\n",
      "Prob(Omnibus):                  0.002   Jarque-Bera (JB):               28.089\n",
      "Skew:                          -0.360   Prob(JB):                     7.95e-07\n",
      "Kurtosis:                       5.392   Cond. No.                         1.00\n",
      "==============================================================================\n",
      "\n",
      "Notes:\n",
      "[1] Standard Errors assume that the covariance matrix of the errors is correctly specified.\n",
      "Random Effects Model:\n",
      " <statsmodels.stats.meta_analysis.CombineResults object at 0x000001F2303EF400>\n"
     ]
    }
   ],
   "source": [
    "# Fixed effects model\n",
    "fixed_effects = sm.WLS(effect_sizes, np.ones(len(effect_sizes)), weights=weights).fit()\n",
    "\n",
    "# Random effects model using DerSimonian-Laird method\n",
    "variances = std_errors**2\n",
    "random_effects = combine_effects(effect_sizes, variances, method_re='dl')\n",
    "\n",
    "print(\"Fixed Effects Model:\\n\", fixed_effects.summary())\n",
    "print(\"Random Effects Model:\\n\", random_effects)\n"
   ]
  },
  {
   "cell_type": "markdown",
   "id": "27ba2939",
   "metadata": {},
   "source": [
    "***The fixed effects model shows the average effect size across all studies but does not explain any variability due to no predictors being included. The significant intercept suggests a non-zero average effect size, but the diagnostics indicate potential issues with normality and autocorrelation of residuals.***"
   ]
  },
  {
   "cell_type": "code",
   "execution_count": 24,
   "id": "2f4111b0",
   "metadata": {},
   "outputs": [
    {
     "data": {
      "image/png": "[encoded data removed]",
      "text/plain": [
       "<Figure size 800x600 with 1 Axes>"
      ]
     },
     "metadata": {},
     "output_type": "display_data"
    }
   ],
   "source": [
    "# Funnel plot function\n",
    "def funnel_plot(effect_sizes, variances):\n",
    "    precision = 1 / np.sqrt(variances)\n",
    "    plt.figure(figsize=(8, 6))\n",
    "    plt.scatter(effect_sizes, precision)\n",
    "    plt.xlabel('Effect Size')\n",
    "    plt.ylabel('Precision (1/Standard Error)')\n",
    "    plt.title('Funnel Plot')\n",
    "    plt.show()\n",
    "\n",
    "# Create funnel plot\n",
    "funnel_plot(effect_sizes, variances)\n",
    "\n"
   ]
  },
  {
   "cell_type": "markdown",
   "id": "b1fde6b7",
   "metadata": {},
   "source": [
    "***This plot suggests that while there may not be a significant publication bias, there is considerable variability in the effect sizes, particularly among smaller studies.***"
   ]
  },
  {
   "cell_type": "code",
   "execution_count": 26,
   "id": "5f82934d",
   "metadata": {},
   "outputs": [
    {
     "name": "stdout",
     "output_type": "stream",
     "text": [
      "                            OLS Regression Results                            \n",
      "==============================================================================\n",
      "Dep. Variable:             EffectSize   R-squared:                       0.168\n",
      "Model:                            OLS   Adj. R-squared:                  0.126\n",
      "Method:                 Least Squares   F-statistic:                     3.971\n",
      "Date:                Sun, 26 May 2024   Prob (F-statistic):            0.00254\n",
      "Time:                        21:21:49   Log-Likelihood:                -625.53\n",
      "No. Observations:                 104   AIC:                             1263.\n",
      "Df Residuals:                      98   BIC:                             1279.\n",
      "Df Model:                           5                                         \n",
      "Covariance Type:            nonrobust                                         \n",
      "=================================================================================\n",
      "                    coef    std err          t      P>|t|      [0.025      0.975]\n",
      "---------------------------------------------------------------------------------\n",
      "Intercept      7080.6039   2685.752      2.636      0.010    1750.817    1.24e+04\n",
      "NeutralToys      31.4926     39.118      0.805      0.423     -46.136     109.121\n",
      "Year             -3.5165      1.335     -2.634      0.010      -6.165      -0.868\n",
      "ParentPresent    28.7747     17.172      1.676      0.097      -5.302      62.852\n",
      "Setting           9.7215     24.745      0.393      0.695     -39.383      58.826\n",
      "Country         -57.3958    158.842     -0.361      0.719    -372.613     257.822\n",
      "==============================================================================\n",
      "Omnibus:                       40.612   Durbin-Watson:                   1.072\n",
      "Prob(Omnibus):                  0.000   Jarque-Bera (JB):               88.101\n",
      "Skew:                           1.540   Prob(JB):                     7.40e-20\n",
      "Kurtosis:                       6.294   Cond. No.                     5.38e+05\n",
      "==============================================================================\n",
      "\n",
      "Notes:\n",
      "[1] Standard Errors assume that the covariance matrix of the errors is correctly specified.\n",
      "[2] The condition number is large, 5.38e+05. This might indicate that there are\n",
      "strong multicollinearity or other numerical problems.\n",
      "                            OLS Regression Results                            \n",
      "==============================================================================\n",
      "Dep. Variable:             EffectSize   R-squared:                       0.002\n",
      "Model:                            OLS   Adj. R-squared:                 -0.007\n",
      "Method:                 Least Squares   F-statistic:                    0.2430\n",
      "Date:                Sun, 26 May 2024   Prob (F-statistic):              0.623\n",
      "Time:                        21:21:49   Log-Likelihood:                -658.59\n",
      "No. Observations:                 108   AIC:                             1321.\n",
      "Df Residuals:                     106   BIC:                             1327.\n",
      "Df Model:                           1                                         \n",
      "Covariance Type:            nonrobust                                         \n",
      "========================================================================================\n",
      "                           coef    std err          t      P>|t|      [0.025      0.975]\n",
      "----------------------------------------------------------------------------------------\n",
      "Intercept              128.1187     11.332     11.306      0.000     105.653     150.585\n",
      "AuthorGender[T.Male]   -14.5124     29.441     -0.493      0.623     -72.881      43.856\n",
      "==============================================================================\n",
      "Omnibus:                       34.608   Durbin-Watson:                   1.133\n",
      "Prob(Omnibus):                  0.000   Jarque-Bera (JB):               57.618\n",
      "Skew:                           1.444   Prob(JB):                     3.08e-13\n",
      "Kurtosis:                       5.113   Cond. No.                         2.89\n",
      "==============================================================================\n",
      "\n",
      "Notes:\n",
      "[1] Standard Errors assume that the covariance matrix of the errors is correctly specified.\n"
     ]
    }
   ],
   "source": [
    "# Ensure effect_sizes and corresponding data are in the same DataFrame for regression\n",
    "meta_data = pd.DataFrame({\n",
    "    'EffectSize': effect_sizes,\n",
    "    'StdErr': std_errors,\n",
    "    'NeutralToys': np.tile(data['Neutral toys'], 4),\n",
    "    'Year': np.tile(data['Year'], 4),\n",
    "    'ParentPresent': np.tile(data['Parent present'], 4),\n",
    "    'Setting': np.tile(data['Setting'], 4),\n",
    "    'Country': np.tile(data['Country'], 4),\n",
    "    'AuthorGender': np.tile(np.where(data['Female authors'] > data['Male authors'], 'Female', 'Male'), 4)\n",
    "})\n",
    "\n",
    "# Meta-regression to check if methods/quality affect the results\n",
    "meta_regression_model = ols('EffectSize ~ NeutralToys + Year + ParentPresent + Setting + Country', data=meta_data).fit()\n",
    "print(meta_regression_model.summary())\n",
    "\n",
    "# Meta-regression to check if author gender affects the results\n",
    "meta_regression_gender_model = ols('EffectSize ~ AuthorGender', data=meta_data).fit()\n",
    "print(meta_regression_gender_model.summary())\n"
   ]
  },
  {
   "cell_type": "markdown",
   "id": "91a3aaf5",
   "metadata": {},
   "source": [
    "***The model explains a modest portion of the variability in effect sizes. The year variable is significant, indicating a slight decrease in effect sizes over time. Other variables such as NeutralToys, ParentPresent, Setting, and Country do not significantly contribute to the model. Diagnostics indicate potential issues with non-normality and multicollinearity.***\n",
    "\n",
    "***The regression model shows that the gender of the authors does not significantly affect the effect sizes in the studies (p = 0.623). The model explains virtually none of the variability in the effect sizes (R-squared = 0.002), and diagnostics indicate issues with non-normality and potential autocorrelation of residuals.***\n",
    "\n",
    "***The results indicate that while some methodological factors (like the year of the study) might influence effect sizes, the gender of the authors does not. Overall, the models indicate issues with non-normality and potential autocorrelation, suggesting further investigation and possibly more sophisticated modeling approaches might be necessary.***\n",
    "\n",
    "\n",
    "\n",
    "\n",
    "\n",
    "\n"
   ]
  },
  {
   "cell_type": "code",
   "execution_count": null,
   "id": "c1abe3b0",
   "metadata": {},
   "outputs": [],
   "source": []
  }
 ],
 "metadata": {
  "kernelspec": {
   "display_name": "Python 3 (ipykernel)",
   "language": "python",
   "name": "python3"
  },
  "language_info": {
   "codemirror_mode": {
    "name": "ipython",
    "version": 3
   },
   "file_extension": ".py",
   "mimetype": "text/x-python",
   "name": "python",
   "nbconvert_exporter": "python",
   "pygments_lexer": "ipython3",
   "version": "3.10.9"
  }
 },
 "nbformat": 4,
 "nbformat_minor": 5
}
